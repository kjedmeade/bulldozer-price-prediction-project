{
 "cells": [
  {
   "cell_type": "markdown",
   "id": "ed3558df-b77f-4cba-b87b-1813208d1799",
   "metadata": {},
   "source": [
    "### Predicting the sale price of bulldozers using machine learning\n",
    "\n",
    "In this notebook, we are going to go through an example machine learning project with the goal of predicting the sale price of bulldozers\n",
    "\n",
    "### 1. Problem definition\n",
    "> How well can we predict the future sales price of a bulldozer given its characteristics and previous examples of how much similar bulldozers have been sold for\n",
    "### 2. Data\n",
    "The data is downloaded from the Kaggle Bluebook for Bulldozers competition: https://www.kaggle.com/c/bluebook-for-bulldozers/data\n",
    "\n",
    "Info below retrieved from Kaggle: \n",
    "* \"Train.csv is the training set, which contains data through the end of 2011.\"\n",
    "  \n",
    "* \"Valid.csv is the validation set, which contains data from January 1, 2012 - April 30, 2012 You make predictions on this set throughout the majority of the competition. Your score on this set is used to create the public leaderboard.\"\n",
    "\n",
    "* \"Test.csv is the test set, which won't be released until the last week of the competition. It contains data from May 1, 2012 - November 2012. Your score on the test set determines your final rank for the competition.\"\n",
    "\n",
    "### 3. Evaluation\n",
    "Kaggle evaluation metric:\n",
    "\n",
    "\"The evaluation metric for this competition is the RMSLE (root mean squared log error) between the actual and predicted auction prices.\"\n",
    "\n",
    "Link: https://www.kaggle.com/c/bluebook-for-bulldozers/overview\n",
    "\n",
    "Note: The goal for most regression evaluation metrics is to minimize the error. For example, our goal for this project will be to build a machine learning model which minimizes RMSLE\n",
    "\n",
    "### 4. Features\n",
    "Kaggle provides a data dictionary detailing all of the features of the dataset (see Data Dictionary.xlsx)"
   ]
  },
  {
   "cell_type": "code",
   "execution_count": null,
   "id": "d5806c9d-dd7f-4208-bc95-3f8f0c41cb5d",
   "metadata": {},
   "outputs": [],
   "source": [
    "import numpy as np\n",
    "import pandas as pd\n",
    "import matplotlib.pyplot as plt\n",
    "import sklearn"
   ]
  },
  {
   "cell_type": "code",
   "execution_count": null,
   "id": "516ea264-fdd7-4d98-bdb0-c645e6584961",
   "metadata": {},
   "outputs": [],
   "source": [
    "### Import training and validation sets\n",
    "df  = pd.read_csv(\"data/bluebook-for-bulldozers/TrainAndValid.csv\", low_memory=False)"
   ]
  },
  {
   "cell_type": "code",
   "execution_count": null,
   "id": "dcf9e9e9-3a3d-4aa3-87f7-74a5da5afc9c",
   "metadata": {},
   "outputs": [],
   "source": [
    "df.info()"
   ]
  },
  {
   "cell_type": "code",
   "execution_count": null,
   "id": "412671a7-ebff-4106-a29b-40980381228a",
   "metadata": {},
   "outputs": [],
   "source": [
    "df.isna().sum()"
   ]
  },
  {
   "cell_type": "code",
   "execution_count": null,
   "id": "1e79c2d8-787a-4de4-a03f-29cf9f1ad152",
   "metadata": {},
   "outputs": [],
   "source": [
    "fig, ax = plt.subplots()\n",
    "ax.scatter(df[\"saledate\"][:1000], df[\"SalePrice\"][:1000])"
   ]
  },
  {
   "cell_type": "code",
   "execution_count": null,
   "id": "45f4431f-6078-4986-a72f-1ecdc3bed7a9",
   "metadata": {},
   "outputs": [],
   "source": []
  }
 ],
 "metadata": {
  "kernelspec": {
   "display_name": "Python 3 (ipykernel)",
   "language": "python",
   "name": "python3"
  },
  "language_info": {
   "codemirror_mode": {
    "name": "ipython",
    "version": 3
   },
   "file_extension": ".py",
   "mimetype": "text/x-python",
   "name": "python",
   "nbconvert_exporter": "python",
   "pygments_lexer": "ipython3",
   "version": "3.13.2"
  }
 },
 "nbformat": 4,
 "nbformat_minor": 5
}
